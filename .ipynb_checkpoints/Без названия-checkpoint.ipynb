{
 "cells": [
  {
   "cell_type": "code",
   "execution_count": 1,
   "id": "6803593c",
   "metadata": {},
   "outputs": [],
   "source": [
    "import pandas as pd"
   ]
  },
  {
   "cell_type": "code",
   "execution_count": null,
   "id": "91e18bf6",
   "metadata": {},
   "outputs": [],
   "source": [
    "df = pd.read_csv('chat_messages.csv')"
   ]
  },
  {
   "cell_type": "code",
   "execution_count": 1,
   "id": "13af2e9d",
   "metadata": {},
   "outputs": [],
   "source": [
    "s = 'deweewwe9)()))dddddd'\n"
   ]
  },
  {
   "cell_type": "code",
   "execution_count": 2,
   "id": "c1863001",
   "metadata": {},
   "outputs": [
    {
     "data": {
      "text/plain": [
       "'deweewwe9)()))dddddd'"
      ]
     },
     "execution_count": 2,
     "metadata": {},
     "output_type": "execute_result"
    }
   ],
   "source": [
    "s"
   ]
  },
  {
   "cell_type": "code",
   "execution_count": null,
   "id": "c29e28c9",
   "metadata": {},
   "outputs": [],
   "source": [
    "s[:s.find('(')]"
   ]
  }
 ],
 "metadata": {
  "kernelspec": {
   "display_name": "Python 3 (ipykernel)",
   "language": "python",
   "name": "python3"
  },
  "language_info": {
   "codemirror_mode": {
    "name": "ipython",
    "version": 3
   },
   "file_extension": ".py",
   "mimetype": "text/x-python",
   "name": "python",
   "nbconvert_exporter": "python",
   "pygments_lexer": "ipython3",
   "version": "3.8.2"
  }
 },
 "nbformat": 4,
 "nbformat_minor": 5
}
