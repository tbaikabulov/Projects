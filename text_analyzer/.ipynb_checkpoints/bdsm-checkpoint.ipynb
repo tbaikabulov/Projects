{
 "cells": [
  {
   "cell_type": "code",
   "execution_count": 213,
   "id": "6de7cc26",
   "metadata": {},
   "outputs": [],
   "source": [
    "import os\n",
    "import requests\n",
    "import shutil\n",
    "import re"
   ]
  },
  {
   "cell_type": "code",
   "execution_count": 214,
   "id": "4a46411f",
   "metadata": {},
   "outputs": [],
   "source": [
    "def delete_files(folder):\n",
    "    shutil.rmtree(folder)\n",
    "    os.makedirs(folder)"
   ]
  },
  {
   "cell_type": "code",
   "execution_count": 215,
   "id": "8e30c7fb",
   "metadata": {},
   "outputs": [],
   "source": [
    "TAG_RE = re.compile(r'<[^>]+>')\n",
    "\n",
    "def remove_tags(text):\n",
    "    return TAG_RE.sub('', text)"
   ]
  },
  {
   "cell_type": "code",
   "execution_count": 216,
   "id": "a2ecc324",
   "metadata": {},
   "outputs": [],
   "source": [
    "delete_files('stories')"
   ]
  },
  {
   "cell_type": "code",
   "execution_count": 217,
   "id": "4f99ce27",
   "metadata": {},
   "outputs": [],
   "source": [
    "def save_text(text, name, path):\n",
    "    html_output_name = path+'/' + name\n",
    "    with open(html_output_name, 'w') as f:\n",
    "        f.write(text)\n",
    "        f.close()"
   ]
  },
  {
   "cell_type": "code",
   "execution_count": 218,
   "id": "c7b68f47",
   "metadata": {},
   "outputs": [],
   "source": [
    "def cleanhtml(raw_html):\n",
    "    CLEANR = re.compile('<.*?>') \n",
    "    cleantext = re.sub(CLEANR, '', raw_html)\n",
    "    cleantext = cleantext[cleantext.find('CDATA'):]\n",
    "    cleantext = cleantext[cleantext.find('BDSM Library'):]\n",
    "    cleantext = cleantext[:cleantext.find('AC_FL_RunContent')]\n",
    "    cleantext = remove_tags(cleantext)\n",
    "    return cleantext"
   ]
  },
  {
   "cell_type": "code",
   "execution_count": 222,
   "id": "3f7bcbcd",
   "metadata": {},
   "outputs": [],
   "source": [
    "def save_story(story_id):\n",
    "    url1 = f'https://www.bdsmlibrary.com/stories/story.php?storyid={story_id}'\n",
    "    url2 = f'https://www.bdsmlibrary.com/stories/wholestory.php?storyid={story_id}'\n",
    "    req = requests.get(url2, 'html.parser')\n",
    "    \n",
    "    text = cleanhtml(req.text)\n",
    "    \n",
    "    save_text(text, 'story' + str(story_id)+'.txt', 'stories')"
   ]
  },
  {
   "cell_type": "code",
   "execution_count": 274,
   "id": "5ead051f",
   "metadata": {},
   "outputs": [],
   "source": [
    "def story_info(story_id):\n",
    "    url1 = f'https://www.bdsmlibrary.com/stories/story.php?storyid={story_id}'\n",
    "    text = requests.get(url1, 'html.parser').text\n",
    "    return(text[text.find('/10,')-4:text.find('/10,')+13])"
   ]
  },
  {
   "cell_type": "code",
   "execution_count": 275,
   "id": "69796f33",
   "metadata": {},
   "outputs": [
    {
     "data": {
      "text/plain": [
       "'(7.5/10, 8 votes)'"
      ]
     },
     "execution_count": 275,
     "metadata": {},
     "output_type": "execute_result"
    }
   ],
   "source": [
    "story_info(9171)"
   ]
  },
  {
   "cell_type": "code",
   "execution_count": 260,
   "id": "3c134a32",
   "metadata": {},
   "outputs": [],
   "source": [
    "save_story(9171)"
   ]
  },
  {
   "cell_type": "code",
   "execution_count": 261,
   "id": "b2723986",
   "metadata": {},
   "outputs": [],
   "source": [
    "fav_story_ids = [3160, 5357, 496, 10501, 9171, 491]\n",
    "#3160 Cheerleaders' Rape and Torture\n",
    "#5357 From Society Girl To Slave\n",
    "#496 Dear Diary\n",
    "#10501 Sara the Puppy Girl\n",
    "#9171 Lesbian Slave Auction II: Return to Stonebriar\n",
    "#491 Stacy's Senior Year "
   ]
  },
  {
   "cell_type": "code",
   "execution_count": 252,
   "id": "81c62b5b",
   "metadata": {},
   "outputs": [],
   "source": [
    "for i in fav_story_ids:\n",
    "    save_story(i)"
   ]
  },
  {
   "cell_type": "code",
   "execution_count": null,
   "id": "d1b1ff49",
   "metadata": {},
   "outputs": [],
   "source": [
    "df = pd.DataFrame({'story_id': [], 'story_name': [], 'rating':[],'n_votes':[]})"
   ]
  },
  {
   "cell_type": "code",
   "execution_count": null,
   "id": "cf872c9f",
   "metadata": {},
   "outputs": [],
   "source": [
    "for story_id in range(1,10):\n",
    "    df.loc[df.shape[0]] = [story_id, name(user.first_name, user.last_name), user.username, str(user.id), t, m.date]\n",
    "df.to_csv('stories.csv', index=False)"
   ]
  },
  {
   "cell_type": "code",
   "execution_count": null,
   "id": "ee4c6ef3",
   "metadata": {},
   "outputs": [],
   "source": []
  },
  {
   "cell_type": "code",
   "execution_count": 317,
   "id": "cde5308e",
   "metadata": {},
   "outputs": [],
   "source": [
    "class Story():\n",
    "    def __init__(self, story_id):\n",
    "        self.story_id = story_id\n",
    "        url1 = f'https://www.bdsmlibrary.com/stories/story.php?storyid={story_id}'\n",
    "        self.page1 = requests.get(url1, 'html.parser').text\n",
    "        url2 = f'https://www.bdsmlibrary.com/stories/wholestory.php?storyid={story_id}'\n",
    "        url2_text = requests.get(url2, 'html.parser').text\n",
    "        self.content = cleanhtml(url2_text)\n",
    "        page1 = self.page1\n",
    "        rating_text = page1[page1.find('/10,')-10:page1.find('/10,')+13]\n",
    "        self.votes = rating_text[rating_text.find(',')+2:rating_text.find('votes')-1]\n",
    "    def get_votes(self):\n",
    "        page1 = self.page1\n",
    "        text = page1[page1.find('/10,')-10:page1.find('/10,')+13]\n",
    "        return text[text.find(',')+2:text.find('votes')-1]\n",
    "    def save(self):\n",
    "        save_text(self.content, 'story' + str(self.story_id)+'.txt', 'stories')"
   ]
  },
  {
   "cell_type": "code",
   "execution_count": 318,
   "id": "28b81cc3",
   "metadata": {},
   "outputs": [
    {
     "name": "stdout",
     "output_type": "stream",
     "text": [
      "66\n"
     ]
    }
   ],
   "source": [
    "s = Story(3160)\n",
    "print(s.get_votes())"
   ]
  },
  {
   "cell_type": "code",
   "execution_count": 300,
   "id": "b05db35b",
   "metadata": {},
   "outputs": [
    {
     "data": {
      "text/plain": [
       "<__main__.Story at 0x7fd9acff6d30>"
      ]
     },
     "execution_count": 300,
     "metadata": {},
     "output_type": "execute_result"
    }
   ],
   "source": [
    "s"
   ]
  },
  {
   "cell_type": "code",
   "execution_count": null,
   "id": "c21e9eaa",
   "metadata": {},
   "outputs": [],
   "source": []
  }
 ],
 "metadata": {
  "kernelspec": {
   "display_name": "Python 3 (ipykernel)",
   "language": "python",
   "name": "python3"
  },
  "language_info": {
   "codemirror_mode": {
    "name": "ipython",
    "version": 3
   },
   "file_extension": ".py",
   "mimetype": "text/x-python",
   "name": "python",
   "nbconvert_exporter": "python",
   "pygments_lexer": "ipython3",
   "version": "3.8.8"
  }
 },
 "nbformat": 4,
 "nbformat_minor": 5
}
